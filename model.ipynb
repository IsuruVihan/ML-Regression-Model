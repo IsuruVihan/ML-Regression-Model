{
 "cells": [
  {
   "cell_type": "markdown",
   "id": "66b3c6e2",
   "metadata": {},
   "source": [
    "### Import Libraries"
   ]
  },
  {
   "cell_type": "code",
   "execution_count": 17,
   "id": "c6ffe5e2",
   "metadata": {},
   "outputs": [],
   "source": [
    "import pandas as pd\n",
    "import numpy as np\n",
    "from sklearn.model_selection import train_test_split\n",
    "from sklearn.linear_model import LinearRegression\n",
    "from sklearn.metrics import r2_score, mean_absolute_error, mean_squared_error\n",
    "import matplotlib.pyplot as plt"
   ]
  },
  {
   "cell_type": "markdown",
   "id": "734981d3",
   "metadata": {},
   "source": [
    "### Import Dataset"
   ]
  },
  {
   "cell_type": "code",
   "execution_count": 18,
   "id": "058408d9",
   "metadata": {},
   "outputs": [
    {
     "data": {
      "text/html": [
       "<div>\n",
       "<style scoped>\n",
       "    .dataframe tbody tr th:only-of-type {\n",
       "        vertical-align: middle;\n",
       "    }\n",
       "\n",
       "    .dataframe tbody tr th {\n",
       "        vertical-align: top;\n",
       "    }\n",
       "\n",
       "    .dataframe thead th {\n",
       "        text-align: right;\n",
       "    }\n",
       "</style>\n",
       "<table border=\"1\" class=\"dataframe\">\n",
       "  <thead>\n",
       "    <tr style=\"text-align: right;\">\n",
       "      <th></th>\n",
       "      <th>Age</th>\n",
       "      <th>Diabetes</th>\n",
       "      <th>BloodPressureProblems</th>\n",
       "      <th>AnyTransplants</th>\n",
       "      <th>AnyChronicDiseases</th>\n",
       "      <th>Height</th>\n",
       "      <th>Weight</th>\n",
       "      <th>KnownAllergies</th>\n",
       "      <th>HistoryOfCancerInFamily</th>\n",
       "      <th>NumberOfMajorSurgeries</th>\n",
       "      <th>PremiumPrice</th>\n",
       "    </tr>\n",
       "  </thead>\n",
       "  <tbody>\n",
       "    <tr>\n",
       "      <th>0</th>\n",
       "      <td>45</td>\n",
       "      <td>0</td>\n",
       "      <td>0</td>\n",
       "      <td>0</td>\n",
       "      <td>0</td>\n",
       "      <td>155</td>\n",
       "      <td>57</td>\n",
       "      <td>0</td>\n",
       "      <td>0</td>\n",
       "      <td>0</td>\n",
       "      <td>25000</td>\n",
       "    </tr>\n",
       "    <tr>\n",
       "      <th>1</th>\n",
       "      <td>60</td>\n",
       "      <td>1</td>\n",
       "      <td>0</td>\n",
       "      <td>0</td>\n",
       "      <td>0</td>\n",
       "      <td>180</td>\n",
       "      <td>73</td>\n",
       "      <td>0</td>\n",
       "      <td>0</td>\n",
       "      <td>0</td>\n",
       "      <td>29000</td>\n",
       "    </tr>\n",
       "    <tr>\n",
       "      <th>2</th>\n",
       "      <td>36</td>\n",
       "      <td>1</td>\n",
       "      <td>1</td>\n",
       "      <td>0</td>\n",
       "      <td>0</td>\n",
       "      <td>158</td>\n",
       "      <td>59</td>\n",
       "      <td>0</td>\n",
       "      <td>0</td>\n",
       "      <td>1</td>\n",
       "      <td>23000</td>\n",
       "    </tr>\n",
       "    <tr>\n",
       "      <th>3</th>\n",
       "      <td>52</td>\n",
       "      <td>1</td>\n",
       "      <td>1</td>\n",
       "      <td>0</td>\n",
       "      <td>1</td>\n",
       "      <td>183</td>\n",
       "      <td>93</td>\n",
       "      <td>0</td>\n",
       "      <td>0</td>\n",
       "      <td>2</td>\n",
       "      <td>28000</td>\n",
       "    </tr>\n",
       "    <tr>\n",
       "      <th>4</th>\n",
       "      <td>38</td>\n",
       "      <td>0</td>\n",
       "      <td>0</td>\n",
       "      <td>0</td>\n",
       "      <td>1</td>\n",
       "      <td>166</td>\n",
       "      <td>88</td>\n",
       "      <td>0</td>\n",
       "      <td>0</td>\n",
       "      <td>1</td>\n",
       "      <td>23000</td>\n",
       "    </tr>\n",
       "    <tr>\n",
       "      <th>...</th>\n",
       "      <td>...</td>\n",
       "      <td>...</td>\n",
       "      <td>...</td>\n",
       "      <td>...</td>\n",
       "      <td>...</td>\n",
       "      <td>...</td>\n",
       "      <td>...</td>\n",
       "      <td>...</td>\n",
       "      <td>...</td>\n",
       "      <td>...</td>\n",
       "      <td>...</td>\n",
       "    </tr>\n",
       "    <tr>\n",
       "      <th>981</th>\n",
       "      <td>18</td>\n",
       "      <td>0</td>\n",
       "      <td>0</td>\n",
       "      <td>0</td>\n",
       "      <td>0</td>\n",
       "      <td>169</td>\n",
       "      <td>67</td>\n",
       "      <td>0</td>\n",
       "      <td>0</td>\n",
       "      <td>0</td>\n",
       "      <td>15000</td>\n",
       "    </tr>\n",
       "    <tr>\n",
       "      <th>982</th>\n",
       "      <td>64</td>\n",
       "      <td>1</td>\n",
       "      <td>1</td>\n",
       "      <td>0</td>\n",
       "      <td>0</td>\n",
       "      <td>153</td>\n",
       "      <td>70</td>\n",
       "      <td>0</td>\n",
       "      <td>0</td>\n",
       "      <td>3</td>\n",
       "      <td>28000</td>\n",
       "    </tr>\n",
       "    <tr>\n",
       "      <th>983</th>\n",
       "      <td>56</td>\n",
       "      <td>0</td>\n",
       "      <td>1</td>\n",
       "      <td>0</td>\n",
       "      <td>0</td>\n",
       "      <td>155</td>\n",
       "      <td>71</td>\n",
       "      <td>0</td>\n",
       "      <td>0</td>\n",
       "      <td>1</td>\n",
       "      <td>29000</td>\n",
       "    </tr>\n",
       "    <tr>\n",
       "      <th>984</th>\n",
       "      <td>47</td>\n",
       "      <td>1</td>\n",
       "      <td>1</td>\n",
       "      <td>0</td>\n",
       "      <td>0</td>\n",
       "      <td>158</td>\n",
       "      <td>73</td>\n",
       "      <td>1</td>\n",
       "      <td>0</td>\n",
       "      <td>1</td>\n",
       "      <td>39000</td>\n",
       "    </tr>\n",
       "    <tr>\n",
       "      <th>985</th>\n",
       "      <td>21</td>\n",
       "      <td>0</td>\n",
       "      <td>0</td>\n",
       "      <td>0</td>\n",
       "      <td>0</td>\n",
       "      <td>158</td>\n",
       "      <td>75</td>\n",
       "      <td>1</td>\n",
       "      <td>0</td>\n",
       "      <td>1</td>\n",
       "      <td>15000</td>\n",
       "    </tr>\n",
       "  </tbody>\n",
       "</table>\n",
       "<p>986 rows × 11 columns</p>\n",
       "</div>"
      ],
      "text/plain": [
       "     Age  Diabetes  BloodPressureProblems  AnyTransplants  AnyChronicDiseases  \\\n",
       "0     45         0                      0               0                   0   \n",
       "1     60         1                      0               0                   0   \n",
       "2     36         1                      1               0                   0   \n",
       "3     52         1                      1               0                   1   \n",
       "4     38         0                      0               0                   1   \n",
       "..   ...       ...                    ...             ...                 ...   \n",
       "981   18         0                      0               0                   0   \n",
       "982   64         1                      1               0                   0   \n",
       "983   56         0                      1               0                   0   \n",
       "984   47         1                      1               0                   0   \n",
       "985   21         0                      0               0                   0   \n",
       "\n",
       "     Height  Weight  KnownAllergies  HistoryOfCancerInFamily  \\\n",
       "0       155      57               0                        0   \n",
       "1       180      73               0                        0   \n",
       "2       158      59               0                        0   \n",
       "3       183      93               0                        0   \n",
       "4       166      88               0                        0   \n",
       "..      ...     ...             ...                      ...   \n",
       "981     169      67               0                        0   \n",
       "982     153      70               0                        0   \n",
       "983     155      71               0                        0   \n",
       "984     158      73               1                        0   \n",
       "985     158      75               1                        0   \n",
       "\n",
       "     NumberOfMajorSurgeries  PremiumPrice  \n",
       "0                         0         25000  \n",
       "1                         0         29000  \n",
       "2                         1         23000  \n",
       "3                         2         28000  \n",
       "4                         1         23000  \n",
       "..                      ...           ...  \n",
       "981                       0         15000  \n",
       "982                       3         28000  \n",
       "983                       1         29000  \n",
       "984                       1         39000  \n",
       "985                       1         15000  \n",
       "\n",
       "[986 rows x 11 columns]"
      ]
     },
     "execution_count": 18,
     "metadata": {},
     "output_type": "execute_result"
    }
   ],
   "source": [
    "data_df = pd.read_csv('Medicalpremium.csv')\n",
    "data_df"
   ]
  },
  {
   "cell_type": "markdown",
   "id": "5ad16461",
   "metadata": {},
   "source": [
    "### Define 'X' and 'Y'"
   ]
  },
  {
   "cell_type": "code",
   "execution_count": 19,
   "id": "9869e992",
   "metadata": {},
   "outputs": [
    {
     "name": "stdout",
     "output_type": "stream",
     "text": [
      "[[45  0  0 ...  0  0  0]\n",
      " [60  1  0 ...  0  0  0]\n",
      " [36  1  1 ...  0  0  1]\n",
      " ...\n",
      " [56  0  1 ...  0  0  1]\n",
      " [47  1  1 ...  1  0  1]\n",
      " [21  0  0 ...  1  0  1]]\n"
     ]
    }
   ],
   "source": [
    "x = data_df.drop(['PremiumPrice'], axis=1).values\n",
    "print(x)"
   ]
  },
  {
   "cell_type": "code",
   "execution_count": 20,
   "id": "ae328a75",
   "metadata": {},
   "outputs": [
    {
     "name": "stdout",
     "output_type": "stream",
     "text": [
      "[25000 29000 23000 28000 23000 23000 21000 15000 23000 23000 28000 25000\n",
      " 15000 35000 15000 23000 30000 23000 25000 15000 28000 15000 32000 23000\n",
      " 35000 21000 15000 28000 23000 21000 15000 19000 15000 15000 28000 28000\n",
      " 23000 25000 30000 15000 15000 28000 15000 29000 15000 23000 32000 35000\n",
      " 25000 15000 23000 28000 28000 32000 25000 23000 29000 28000 24000 23000\n",
      " 23000 25000 15000 23000 28000 15000 28000 15000 23000 21000 15000 30000\n",
      " 25000 38000 28000 28000 15000 23000 28000 38000 23000 25000 15000 23000\n",
      " 25000 25000 38000 15000 31000 21000 25000 28000 31000 28000 28000 15000\n",
      " 23000 23000 25000 23000 15000 38000 31000 15000 15000 23000 25000 23000\n",
      " 19000 28000 29000 23000 15000 23000 23000 19000 28000 25000 25000 21000\n",
      " 28000 29000 23000 15000 23000 38000 30000 31000 29000 15000 15000 28000\n",
      " 23000 15000 23000 15000 23000 28000 29000 38000 31000 28000 21000 21000\n",
      " 28000 29000 23000 38000 28000 25000 28000 35000 29000 23000 15000 35000\n",
      " 25000 15000 23000 25000 35000 15000 23000 29000 15000 23000 15000 15000\n",
      " 23000 38000 30000 23000 25000 38000 15000 35000 23000 23000 23000 28000\n",
      " 23000 23000 23000 23000 23000 30000 15000 15000 23000 23000 23000 35000\n",
      " 28000 23000 31000 15000 23000 23000 35000 15000 23000 23000 26000 26000\n",
      " 39000 35000 23000 15000 23000 35000 30000 19000 24000 22000 28000 15000\n",
      " 28000 24000 38000 26000 28000 35000 35000 15000 23000 35000 28000 31000\n",
      " 15000 28000 25000 23000 28000 21000 21000 15000 23000 25000 28000 30000\n",
      " 35000 15000 15000 28000 23000 28000 15000 29000 25000 15000 15000 25000\n",
      " 23000 35000 28000 23000 15000 15000 35000 23000 23000 15000 25000 23000\n",
      " 15000 15000 25000 23000 30000 29000 25000 28000 30000 23000 28000 23000\n",
      " 15000 21000 23000 29000 26000 23000 28000 35000 28000 23000 35000 25000\n",
      " 25000 38000 29000 15000 23000 23000 38000 40000 31000 25000 28000 23000\n",
      " 15000 15000 15000 31000 15000 23000 35000 23000 28000 28000 15000 24000\n",
      " 23000 23000 38000 23000 25000 29000 38000 23000 19000 23000 23000 15000\n",
      " 26000 15000 23000 23000 28000 31000 23000 28000 28000 18000 34000 28000\n",
      " 15000 28000 25000 25000 30000 23000 35000 15000 23000 30000 15000 23000\n",
      " 25000 28000 23000 21000 23000 15000 23000 28000 23000 30000 30000 25000\n",
      " 31000 23000 23000 30000 23000 28000 23000 28000 23000 38000 31000 29000\n",
      " 15000 28000 15000 23000 23000 28000 29000 23000 28000 30000 15000 23000\n",
      " 25000 29000 19000 31000 25000 23000 25000 23000 23000 29000 28000 21000\n",
      " 38000 21000 28000 23000 21000 28000 25000 29000 28000 30000 23000 23000\n",
      " 23000 23000 28000 23000 28000 23000 23000 23000 15000 23000 23000 23000\n",
      " 15000 23000 15000 15000 28000 25000 15000 25000 15000 15000 25000 23000\n",
      " 15000 30000 20000 31000 15000 23000 15000 35000 25000 25000 15000 23000\n",
      " 18000 15000 16000 28000 16000 28000 16000 31000 28000 28000 23000 15000\n",
      " 15000 15000 28000 38000 15000 25000 15000 28000 15000 30000 23000 23000\n",
      " 15000 30000 23000 25000 23000 25000 25000 23000 15000 28000 21000 25000\n",
      " 15000 25000 23000 25000 25000 25000 25000 23000 25000 21000 21000 25000\n",
      " 15000 21000 28000 23000 25000 23000 28000 25000 23000 19000 28000 28000\n",
      " 38000 23000 29000 28000 29000 29000 15000 23000 15000 29000 23000 23000\n",
      " 36000 29000 31000 15000 15000 29000 28000 23000 15000 23000 28000 23000\n",
      " 38000 23000 15000 36000 29000 23000 23000 23000 28000 19000 15000 28000\n",
      " 29000 29000 29000 29000 29000 31000 23000 29000 15000 19000 28000 28000\n",
      " 29000 29000 29000 26000 26000 15000 34000 15000 23000 23000 23000 30000\n",
      " 23000 28000 15000 29000 35000 28000 28000 38000 29000 15000 28000 29000\n",
      " 23000 23000 23000 23000 15000 28000 29000 23000 25000 30000 15000 23000\n",
      " 30000 23000 30000 23000 23000 15000 30000 29000 15000 29000 29000 15000\n",
      " 15000 23000 29000 23000 19000 28000 15000 23000 29000 29000 15000 29000\n",
      " 15000 31000 29000 29000 30000 15000 31000 28000 15000 38000 31000 23000\n",
      " 38000 23000 19000 31000 15000 30000 23000 25000 30000 28000 15000 23000\n",
      " 23000 30000 15000 23000 23000 23000 23000 25000 15000 29000 29000 15000\n",
      " 28000 21000 32000 25000 15000 23000 23000 23000 31000 23000 35000 25000\n",
      " 23000 15000 23000 25000 23000 15000 30000 29000 15000 29000 38000 23000\n",
      " 23000 29000 23000 35000 15000 35000 35000 28000 31000 23000 35000 38000\n",
      " 15000 25000 23000 28000 23000 30000 29000 23000 15000 25000 35000 30000\n",
      " 15000 15000 29000 25000 30000 28000 15000 23000 30000 35000 15000 25000\n",
      " 38000 23000 23000 23000 25000 35000 28000 38000 25000 28000 28000 25000\n",
      " 29000 23000 15000 35000 23000 25000 28000 25000 15000 28000 23000 29000\n",
      " 35000 28000 15000 28000 28000 28000 19000 15000 38000 15000 29000 23000\n",
      " 15000 15000 15000 23000 30000 15000 29000 15000 35000 23000 23000 28000\n",
      " 28000 23000 25000 15000 23000 15000 15000 23000 15000 30000 29000 28000\n",
      " 21000 25000 30000 30000 23000 25000 35000 28000 30000 23000 23000 25000\n",
      " 23000 21000 15000 30000 29000 28000 15000 15000 27000 35000 23000 29000\n",
      " 15000 23000 23000 15000 19000 23000 28000 31000 21000 15000 15000 23000\n",
      " 38000 15000 19000 29000 21000 35000 15000 23000 35000 21000 30000 23000\n",
      " 23000 28000 28000 25000 31000 28000 15000 28000 23000 25000 28000 15000\n",
      " 29000 23000 31000 21000 23000 15000 15000 15000 15000 28000 23000 28000\n",
      " 23000 28000 30000 28000 15000 23000 23000 15000 15000 15000 31000 15000\n",
      " 25000 23000 28000 15000 15000 29000 35000 15000 28000 23000 30000 15000\n",
      " 23000 35000 15000 25000 15000 15000 31000 15000 23000 23000 29000 25000\n",
      " 25000 15000 28000 23000 30000 25000 23000 15000 30000 15000 25000 23000\n",
      " 25000 23000 29000 23000 25000 23000 25000 15000 15000 28000 23000 23000\n",
      " 25000 15000 23000 28000 23000 23000 28000 25000 30000 15000 15000 29000\n",
      " 23000 23000 15000 28000 25000 28000 23000 23000 15000 29000 38000 15000\n",
      " 25000 31000 39000 38000 39000 15000 23000 25000 38000 25000 31000 31000\n",
      " 15000 25000 38000 23000 30000 23000 19000 25000 23000 29000 23000 15000\n",
      " 25000 23000 28000 15000 38000 28000 28000 15000 25000 15000 15000 28000\n",
      " 15000 25000 23000 25000 15000 23000 35000 23000 15000 25000 23000 15000\n",
      " 23000 15000 25000 23000 39000 25000 17000 15000 38000 15000 28000 29000\n",
      " 39000 15000]\n"
     ]
    }
   ],
   "source": [
    "y = data_df['PremiumPrice'].values\n",
    "print(y)"
   ]
  },
  {
   "cell_type": "markdown",
   "id": "dc8d53f3",
   "metadata": {},
   "source": [
    "### Split the dataset as 'Training set' and 'Testing set'"
   ]
  },
  {
   "cell_type": "code",
   "execution_count": 21,
   "id": "f1d3f594",
   "metadata": {},
   "outputs": [
    {
     "data": {
      "text/plain": [
       "array([[42,  0,  0, ...,  0,  0,  0],\n",
       "       [49,  1,  0, ...,  0,  0,  2],\n",
       "       [62,  0,  1, ...,  1,  0,  1],\n",
       "       ...,\n",
       "       [41,  0,  0, ...,  0,  0,  0],\n",
       "       [22,  0,  1, ...,  0,  0,  0],\n",
       "       [24,  1,  0, ...,  1,  1,  1]], dtype=int64)"
      ]
     },
     "execution_count": 21,
     "metadata": {},
     "output_type": "execute_result"
    }
   ],
   "source": [
    "x_train, x_test, y_train, y_test = train_test_split(x, y, test_size=0.3, random_state=0)\n",
    "x_train"
   ]
  },
  {
   "cell_type": "code",
   "execution_count": 22,
   "id": "17a33115",
   "metadata": {},
   "outputs": [
    {
     "name": "stdout",
     "output_type": "stream",
     "text": [
      "[[36  1  0 ...  0  0  0]\n",
      " [46  1  1 ...  1  0  1]\n",
      " [60  0  1 ...  0  0  2]\n",
      " ...\n",
      " [57  1  1 ...  1  0  2]\n",
      " [62  1  1 ...  0  0  0]\n",
      " [51  0  1 ...  0  0  1]]\n"
     ]
    }
   ],
   "source": [
    "print(x_test)"
   ]
  },
  {
   "cell_type": "code",
   "execution_count": 23,
   "id": "3f523dae",
   "metadata": {},
   "outputs": [
    {
     "name": "stdout",
     "output_type": "stream",
     "text": [
      "[30000 28000 25000 23000 23000 23000 30000 15000 23000 15000 15000 28000\n",
      " 23000 15000 25000 15000 23000 15000 28000 23000 28000 28000 28000 15000\n",
      " 23000 15000 23000 25000 38000 15000 25000 15000 15000 31000 32000 15000\n",
      " 28000 15000 32000 15000 29000 15000 28000 15000 25000 25000 23000 23000\n",
      " 15000 25000 25000 23000 30000 30000 21000 15000 15000 30000 15000 30000\n",
      " 15000 15000 28000 27000 38000 28000 25000 15000 35000 28000 23000 23000\n",
      " 15000 15000 23000 15000 15000 28000 39000 28000 25000 25000 18000 23000\n",
      " 28000 19000 28000 29000 23000 15000 28000 31000 23000 15000 23000 25000\n",
      " 25000 15000 25000 19000 23000 23000 28000 23000 23000 29000 23000 23000\n",
      " 15000 15000 28000 35000 23000 25000 15000 38000 28000 23000 23000 23000\n",
      " 30000 15000 25000 23000 23000 15000 25000 23000 15000 23000 15000 28000\n",
      " 34000 29000 35000 35000 25000 28000 28000 23000 23000 25000 28000 15000\n",
      " 23000 23000 23000 28000 25000 21000 23000 29000 21000 15000 31000 15000\n",
      " 31000 25000 28000 23000 15000 28000 25000 23000 15000 15000 32000 15000\n",
      " 21000 35000 38000 23000 25000 29000 30000 28000 23000 35000 23000 23000\n",
      " 23000 15000 23000 28000 30000 29000 28000 31000 30000 28000 31000 15000\n",
      " 25000 23000 21000 38000 23000 23000 23000 15000 23000 15000 28000 15000\n",
      " 23000 29000 23000 23000 23000 15000 15000 25000 28000 21000 30000 28000\n",
      " 34000 25000 23000 15000 15000 23000 15000 31000 15000 23000 31000 15000\n",
      " 23000 22000 15000 15000 25000 15000 15000 23000 28000 31000 15000 23000\n",
      " 23000 29000 15000 28000 23000 28000 23000 23000 28000 19000 23000 35000\n",
      " 29000 38000 29000 25000 23000 15000 25000 23000 23000 15000 31000 25000\n",
      " 15000 21000 29000 30000 23000 28000 15000 28000 15000 28000 28000 30000\n",
      " 23000 23000 31000 15000 23000 15000 29000 15000 29000 31000 35000 29000\n",
      " 21000 29000 25000 15000 23000 38000 38000 31000 19000 23000 15000 23000\n",
      " 23000 28000 29000 15000 23000 21000 15000 21000 23000 28000 23000 23000\n",
      " 30000 38000 15000 26000 30000 15000 28000 25000 23000 23000 23000 28000\n",
      " 30000 25000 15000 29000 15000 23000 30000 23000 29000 15000 28000 23000\n",
      " 15000 23000 28000 15000 23000 35000 25000 15000 25000 23000 35000 25000\n",
      " 15000 23000 29000 15000 35000 15000 28000 25000 15000 25000 30000 29000\n",
      " 23000 30000 29000 31000 15000 28000 29000 30000 23000 28000 30000 23000\n",
      " 31000 29000 23000 23000 23000 15000 28000 35000 23000 28000 23000 26000\n",
      " 30000 21000 23000 29000 30000 35000 28000 23000 38000 21000 23000 29000\n",
      " 25000 15000 23000 23000 23000 23000 15000 35000 23000 15000 23000 23000\n",
      " 16000 28000 28000 15000 29000 38000 15000 28000 29000 15000 31000 15000\n",
      " 23000 25000 23000 15000 15000 15000 28000 25000 38000 29000 29000 23000\n",
      " 29000 28000 31000 15000 25000 24000 28000 23000 23000 15000 23000 23000\n",
      " 35000 29000 24000 30000 23000 25000 25000 25000 15000 28000 28000 23000\n",
      " 25000 21000 15000 35000 30000 28000 28000 15000 28000 23000 15000 15000\n",
      " 15000 29000 28000 15000 23000 15000 35000 23000 25000 30000 23000 29000\n",
      " 38000 28000 15000 29000 29000 15000 25000 15000 21000 29000 25000 29000\n",
      " 38000 15000 38000 25000 29000 38000 15000 23000 28000 15000 30000 25000\n",
      " 16000 28000 23000 15000 28000 31000 29000 28000 28000 23000 29000 30000\n",
      " 26000 35000 23000 28000 18000 23000 29000 15000 23000 23000 19000 29000\n",
      " 23000 15000 23000 23000 30000 25000 29000 38000 23000 23000 35000 24000\n",
      " 28000 15000 23000 23000 35000 28000 15000 30000 15000 15000 28000 25000\n",
      " 28000 15000 25000 23000 15000 26000 31000 15000 23000 23000 23000 29000\n",
      " 15000 31000 23000 23000 23000 29000 15000 15000 23000 15000 25000 15000\n",
      " 38000 28000 23000 23000 23000 28000 25000 29000 31000 23000 21000 23000\n",
      " 23000 15000 28000 31000 35000 35000 26000 26000 25000 28000 28000 29000\n",
      " 28000 15000 28000 15000 25000 25000 21000 31000 15000 28000 23000 15000\n",
      " 25000 25000 15000 15000 15000 25000 28000 23000 28000 25000 28000 15000\n",
      " 32000 38000 29000 15000 23000 23000 23000 38000 15000 35000 35000 23000\n",
      " 28000 29000 29000 23000 15000 15000 25000 15000 15000 38000 25000 23000\n",
      " 38000 23000 23000 31000 16000 23000 15000 23000 28000 19000 25000 23000\n",
      " 25000 23000 19000 35000 15000 25000 15000 15000 28000 25000 35000 38000\n",
      " 38000 15000 23000 15000 15000 38000 23000 21000 35000 23000 25000 25000\n",
      " 23000 15000 28000 30000 15000 15000]\n"
     ]
    }
   ],
   "source": [
    "print(y_train)"
   ]
  },
  {
   "cell_type": "code",
   "execution_count": 24,
   "id": "6d2cc52e",
   "metadata": {},
   "outputs": [
    {
     "name": "stdout",
     "output_type": "stream",
     "text": [
      "[23000 23000 28000 23000 38000 23000 15000 29000 25000 35000 23000 23000\n",
      " 15000 25000 30000 15000 23000 29000 15000 40000 15000 28000 23000 15000\n",
      " 19000 38000 23000 25000 29000 35000 35000 15000 15000 15000 25000 23000\n",
      " 23000 25000 25000 19000 28000 19000 23000 19000 23000 15000 28000 39000\n",
      " 29000 28000 15000 21000 15000 28000 30000 28000 25000 28000 35000 23000\n",
      " 29000 28000 30000 30000 25000 31000 15000 23000 29000 23000 23000 23000\n",
      " 30000 15000 28000 28000 23000 25000 29000 23000 30000 28000 15000 29000\n",
      " 23000 28000 15000 23000 30000 23000 38000 38000 31000 23000 21000 19000\n",
      " 25000 25000 38000 28000 25000 23000 21000 15000 28000 25000 25000 23000\n",
      " 23000 23000 15000 28000 28000 35000 38000 35000 26000 23000 25000 15000\n",
      " 23000 28000 23000 38000 23000 29000 21000 15000 23000 23000 23000 23000\n",
      " 23000 25000 28000 25000 15000 35000 15000 15000 29000 15000 28000 15000\n",
      " 35000 29000 15000 15000 30000 28000 23000 21000 15000 15000 19000 29000\n",
      " 36000 23000 23000 15000 28000 23000 28000 25000 23000 24000 23000 15000\n",
      " 31000 15000 28000 28000 23000 30000 31000 23000 28000 29000 23000 35000\n",
      " 23000 28000 23000 23000 25000 23000 28000 23000 28000 15000 28000 15000\n",
      " 23000 25000 25000 28000 39000 20000 23000 15000 15000 35000 23000 23000\n",
      " 25000 30000 23000 38000 25000 35000 36000 30000 15000 15000 15000 38000\n",
      " 28000 23000 23000 29000 23000 23000 23000 25000 15000 15000 23000 15000\n",
      " 30000 23000 29000 25000 23000 28000 30000 23000 28000 25000 21000 31000\n",
      " 29000 39000 23000 23000 23000 35000 23000 25000 31000 28000 25000 29000\n",
      " 15000 23000 21000 19000 15000 39000 21000 23000 23000 30000 23000 23000\n",
      " 29000 21000 25000 15000 23000 15000 23000 23000 15000 17000 25000 35000\n",
      " 29000 30000 28000 23000 15000 29000 31000 28000 28000 23000 23000 28000\n",
      " 28000 30000 35000 25000 19000 28000 25000 29000]\n"
     ]
    }
   ],
   "source": [
    "print(y_test)"
   ]
  },
  {
   "cell_type": "markdown",
   "id": "330f2a95",
   "metadata": {},
   "source": [
    "### Train the model with 'Training set'"
   ]
  },
  {
   "cell_type": "code",
   "execution_count": 25,
   "id": "d5a45b2d",
   "metadata": {},
   "outputs": [
    {
     "data": {
      "text/plain": [
       "LinearRegression()"
      ]
     },
     "execution_count": 25,
     "metadata": {},
     "output_type": "execute_result"
    }
   ],
   "source": [
    "ml = LinearRegression()\n",
    "ml.fit(x_train, y_train)"
   ]
  },
  {
   "cell_type": "markdown",
   "id": "d266bbab",
   "metadata": {},
   "source": [
    "### Predict the 'Testing set' results"
   ]
  },
  {
   "cell_type": "code",
   "execution_count": 26,
   "id": "2215d05f",
   "metadata": {},
   "outputs": [
    {
     "name": "stdout",
     "output_type": "stream",
     "text": [
      "[20876.01149832 24416.8042804  29043.0096839  25133.66293852\n",
      " 30940.30194271 22294.16605122 19859.38133309 29196.60416663\n",
      " 26144.19512571 30860.84210117 19353.44606745 19360.15393381\n",
      " 18779.41831573 26600.16618646 29357.73785907 22362.06043146\n",
      " 24499.23375845 28451.54744784 18596.82874676 33305.78203113\n",
      " 15772.39396825 30627.07715624 24212.67679329 20258.12471786\n",
      " 22293.39888697 31271.61207354 25952.05487343 25891.7009764\n",
      " 29248.58675284 31866.24620222 31893.39071888 16624.35525806\n",
      " 18089.8478003  16013.8420137  31398.29587926 21965.81003703\n",
      " 22365.37058913 25740.79124579 28093.6461732  21505.32302697\n",
      " 30182.67211147 19746.44130828 19619.51713111 21155.43786727\n",
      " 23200.04945983 18702.93465046 24291.72508886 23512.28859871\n",
      " 26851.1758127  29651.37223567 17002.23080827 20523.80403228\n",
      " 19108.05208737 27502.9783518  25951.85381479 28231.05658074\n",
      " 25008.19829939 29955.3951682  28156.12721174 22690.76496977\n",
      " 27038.52290307 28217.16215911 31220.59942069 27399.60573547\n",
      " 24559.45753497 26552.14598841 17242.34346687 20585.10262378\n",
      " 28805.22407751 24635.58989568 20704.0239329  22702.3903547\n",
      " 27789.83474357 16622.10110161 30880.42451545 34371.42454449\n",
      " 23393.7264436  27017.43274719 26695.64318048 23012.83008083\n",
      " 34108.3228926  30201.5795362  15893.25277184 25237.99872924\n",
      " 24569.51231724 30024.59978572 17458.5588314  21821.2693572\n",
      " 27683.48801967 23601.05402155 30916.59995436 29545.77071511\n",
      " 25113.4314903  21116.80958664 19095.39893903 22091.92269959\n",
      " 24659.98429093 26036.58018244 29029.06208168 26828.86827291\n",
      " 27579.91430905 21343.91441377 20289.44611879 14516.54955817\n",
      " 29028.9957889  20652.45141365 23602.37703043 21695.73013058\n",
      " 20074.20456021 25564.52206962 15281.90536286 28123.90570479\n",
      " 24477.04156157 29503.52799278 34960.75979862 27021.28490048\n",
      " 20216.27873831 19455.19440394 31864.55666302 17153.46506403\n",
      " 25501.46275368 30211.35568029 20036.32208114 33079.68836111\n",
      " 19779.03900217 25413.69924755 19623.00349655 19750.9835817\n",
      " 19275.59652848 24476.82191412 21545.09096194 24350.63384006\n",
      " 23266.56656257 30328.46138061 28683.86559833 26464.36234629\n",
      " 17544.7098341  28709.08023422 17268.44644848 18660.76858174\n",
      " 27357.04140516 16408.83613137 24737.53987285 16668.76217944\n",
      " 37173.09900813 27159.56258106 18084.08790384 14082.13257972\n",
      " 27581.23162192 26707.73983053 26301.88699577 16972.46151263\n",
      " 17489.89481828 15344.59609177 23256.43221044 26324.59580931\n",
      " 19333.80664134 21571.09943883 24019.32044333 16485.81328412\n",
      " 26125.60144763 21048.36143877 27934.84863059 24105.86652729\n",
      " 19989.95901607 18596.90017207 22599.32502353 17089.30169026\n",
      " 23643.4174748  18168.14860173 31642.85711536 28964.51546978\n",
      " 20306.11571299 27411.87391963 28456.04108598 18507.21835953\n",
      " 28057.75917854 31654.00253962 22755.27599788 28978.86111331\n",
      " 24865.34093838 26583.64250326 21603.82178368 23672.62359805\n",
      " 25580.14339226 19037.61913584 26463.63354535 25021.90422455\n",
      " 26280.83606709 15400.61641045 30364.47091772 14289.69940909\n",
      " 19993.23816863 30088.65518085 30358.46095218 28241.27925526\n",
      " 17072.77228309 26130.04991738 26592.03940067 18689.32202083\n",
      " 15771.76265771 29770.6906797  25919.06715593 22488.87163645\n",
      " 33475.3790875  29495.86562029 26024.52435309 38945.4620353\n",
      " 27208.93627222 27324.30176948 26870.5141774  25511.76778801\n",
      " 15711.22347244 16209.87893844 17551.05265012 30829.41078345\n",
      " 29033.88851496 22009.7204488  25444.57689106 26093.0250503\n",
      " 22000.81512532 23554.27026211 22258.73686526 26321.39841499\n",
      " 17882.14823202 16853.53143088 19617.78821469 16080.19526479\n",
      " 28632.05497649 23642.43553002 30546.01921289 24836.49978758\n",
      " 18955.92029136 29994.50985626 27821.22327978 20780.63406846\n",
      " 26205.40806868 27352.06611718 18794.94006586 22464.07883796\n",
      " 28922.99087156 14088.62957124 25071.10698402 25309.21593111\n",
      " 22864.75185403 32663.50346208 25098.58336453 26618.50257983\n",
      " 25829.81025072 28564.84011941 34953.49826569 28545.18718865\n",
      " 15336.33961573 23192.89188271 19277.3254449  22199.16998587\n",
      " 14986.3473037  16532.26206491 22863.86629569 20139.32653234\n",
      " 22214.79018183 27218.48321046 22546.5218063  23465.14391835\n",
      " 31509.30352594 27745.6722654  21414.93645082 16783.35188909\n",
      " 21297.5727853  15777.96163647 21923.6577685  19610.12840398\n",
      " 26900.66021316 30590.3914407  29842.84623616 27202.14673748\n",
      " 27363.94474623 27083.69816393 27640.17774447 25072.3048338\n",
      " 19151.90714426 31556.46499967 26889.19635859 30275.17063955\n",
      " 28037.90315363 19511.94921101 21038.76810543 26729.92448585\n",
      " 27607.97148164 24385.09742152 29684.85522666 24457.59188621\n",
      " 22010.70207195 28199.36574174 29795.38674967 25746.65692678]\n"
     ]
    }
   ],
   "source": [
    "y_pred = ml.predict(x_test)\n",
    "print(y_pred)"
   ]
  },
  {
   "cell_type": "markdown",
   "id": "ef299dcd",
   "metadata": {},
   "source": [
    "### Evaluate the model"
   ]
  },
  {
   "cell_type": "markdown",
   "id": "587c43da",
   "metadata": {},
   "source": [
    "#### R2"
   ]
  },
  {
   "cell_type": "code",
   "execution_count": 27,
   "id": "16d7d9be",
   "metadata": {},
   "outputs": [
    {
     "data": {
      "text/plain": [
       "0.5086541413229406"
      ]
     },
     "execution_count": 27,
     "metadata": {},
     "output_type": "execute_result"
    }
   ],
   "source": [
    "r2_score(y_test, y_pred)"
   ]
  },
  {
   "cell_type": "markdown",
   "id": "f9a8c42a",
   "metadata": {},
   "source": [
    "#### Mean Squared Error (MSE)"
   ]
  },
  {
   "cell_type": "code",
   "execution_count": 28,
   "id": "8674f9d4",
   "metadata": {},
   "outputs": [
    {
     "data": {
      "image/png": "[encoded data removed]",
      "text/plain": [
       "<Figure size 720x360 with 1 Axes>"
      ]
     },
     "metadata": {
      "needs_background": "light"
     },
     "output_type": "display_data"
    }
   ],
   "source": [
    "# calculate errors\n",
    "errors = list()\n",
    "for i in range(len(y_test)):\n",
    "    # calculate error\n",
    "\terr = (y_test[i] - y_pred[i]) ** 2\n",
    "\t# store error\n",
    "\terrors.append(err)\n",
    "# plot errors\n",
    "plt.figure(figsize = (10, 5))\n",
    "plt.plot(errors)\n",
    "plt.xticks(ticks = [i for i in range(len(errors))], labels = y_pred)\n",
    "plt.xlabel('Predicted Value')\n",
    "plt.ylabel('Mean Squared Error')\n",
    "plt.show()"
   ]
  },
  {
   "cell_type": "code",
   "execution_count": 29,
   "id": "45b1a8e3",
   "metadata": {},
   "outputs": [
    {
     "data": {
      "text/plain": [
       "18526121.127886258"
      ]
     },
     "execution_count": 29,
     "metadata": {},
     "output_type": "execute_result"
    }
   ],
   "source": [
    "mean_squared_error(y_test, y_pred)"
   ]
  },
  {
   "cell_type": "markdown",
   "id": "cccd5364",
   "metadata": {},
   "source": [
    "#### Root Mean Squared Error (RMSE)"
   ]
  },
  {
   "cell_type": "code",
   "execution_count": 38,
   "id": "ac1ca3ee",
   "metadata": {},
   "outputs": [
    {
     "data": {
      "image/png": "[encoded data removed]",
      "text/plain": [
       "<Figure size 720x360 with 1 Axes>"
      ]
     },
     "metadata": {
      "needs_background": "light"
     },
     "output_type": "display_data"
    }
   ],
   "source": [
    "from math import sqrt\n",
    "\n",
    "# calculate errors\n",
    "errors = list()\n",
    "for i in range(len(y_test)):\n",
    "    # calculate error\n",
    "\terr = sqrt((y_test[i] - y_pred[i]) ** 2)\n",
    "\t# store error\n",
    "\terrors.append(err)\n",
    "# plot errors\n",
    "plt.figure(figsize = (10, 5))\n",
    "plt.plot(errors)\n",
    "plt.xticks(ticks = [i for i in range(len(errors))], labels = y_pred)\n",
    "plt.xlabel('Predicted Value')\n",
    "plt.ylabel('Root Mean Squared Error')\n",
    "plt.show()"
   ]
  },
  {
   "cell_type": "code",
   "execution_count": 40,
   "id": "06f12a5a",
   "metadata": {},
   "outputs": [
    {
     "data": {
      "text/plain": [
       "4304.198081859879"
      ]
     },
     "execution_count": 40,
     "metadata": {},
     "output_type": "execute_result"
    }
   ],
   "source": [
    "mean_squared_error(y_test, y_pred, squared = False)"
   ]
  },
  {
   "cell_type": "markdown",
   "id": "81d543cd",
   "metadata": {},
   "source": [
    "#### Mean Absolute Error (MAE)"
   ]
  },
  {
   "cell_type": "code",
   "execution_count": 42,
   "id": "a6af1378",
   "metadata": {},
   "outputs": [
    {
     "data": {
      "image/png": "[encoded data removed]",
      "text/plain": [
       "<Figure size 720x360 with 1 Axes>"
      ]
     },
     "metadata": {
      "needs_background": "light"
     },
     "output_type": "display_data"
    }
   ],
   "source": [
    "# calculate errors\n",
    "errors = list()\n",
    "for i in range(len(y_test)):\n",
    "\t# calculate error\n",
    "\terr = abs((y_test[i] - y_pred[i]))\n",
    "\t# store error\n",
    "\terrors.append(err)\n",
    "# plot errors\n",
    "plt.figure(figsize = (10, 5))\n",
    "plt.plot(errors)\n",
    "plt.xticks(ticks=[i for i in range(len(errors))], labels=y_pred)\n",
    "plt.xlabel('Predicted Value')\n",
    "plt.ylabel('Mean Absolute Error')\n",
    "plt.show()"
   ]
  },
  {
   "cell_type": "code",
   "execution_count": 43,
   "id": "828df858",
   "metadata": {},
   "outputs": [
    {
     "data": {
      "text/plain": [
       "2902.212708668325"
      ]
     },
     "execution_count": 43,
     "metadata": {},
     "output_type": "execute_result"
    }
   ],
   "source": [
    "mean_absolute_error(y_test, y_pred)"
   ]
  },
  {
   "cell_type": "markdown",
   "id": "5ce6e658",
   "metadata": {},
   "source": [
    "### Plot the results"
   ]
  },
  {
   "cell_type": "code",
   "execution_count": 31,
   "id": "549eadc5",
   "metadata": {},
   "outputs": [
    {
     "data": {
      "text/plain": [
       "Text(0.5, 1.0, 'Actual vs. Predicted')"
      ]
     },
     "execution_count": 31,
     "metadata": {},
     "output_type": "execute_result"
    },
    {
     "data": {
      "image/png": "[encoded data removed]",
      "text/plain": [
       "<Figure size 864x432 with 1 Axes>"
      ]
     },
     "metadata": {
      "needs_background": "light"
     },
     "output_type": "display_data"
    }
   ],
   "source": [
    "plt.figure(figsize=(12, 6))\n",
    "plt.scatter(y_test, y_pred)\n",
    "plt.xlabel('Actual')\n",
    "plt.ylabel('Predicted')\n",
    "plt.title('Actual vs. Predicted')"
   ]
  },
  {
   "cell_type": "markdown",
   "id": "87977b5e",
   "metadata": {},
   "source": [
    "### Predicted results"
   ]
  },
  {
   "cell_type": "code",
   "execution_count": 32,
   "id": "0ecbeff3",
   "metadata": {},
   "outputs": [
    {
     "data": {
      "text/html": [
       "<div>\n",
       "<style scoped>\n",
       "    .dataframe tbody tr th:only-of-type {\n",
       "        vertical-align: middle;\n",
       "    }\n",
       "\n",
       "    .dataframe tbody tr th {\n",
       "        vertical-align: top;\n",
       "    }\n",
       "\n",
       "    .dataframe thead th {\n",
       "        text-align: right;\n",
       "    }\n",
       "</style>\n",
       "<table border=\"1\" class=\"dataframe\">\n",
       "  <thead>\n",
       "    <tr style=\"text-align: right;\">\n",
       "      <th></th>\n",
       "      <th>Actual</th>\n",
       "      <th>Predicted</th>\n",
       "      <th>Difference</th>\n",
       "    </tr>\n",
       "  </thead>\n",
       "  <tbody>\n",
       "    <tr>\n",
       "      <th>0</th>\n",
       "      <td>23000</td>\n",
       "      <td>20876.011498</td>\n",
       "      <td>2123.988502</td>\n",
       "    </tr>\n",
       "    <tr>\n",
       "      <th>1</th>\n",
       "      <td>23000</td>\n",
       "      <td>24416.804280</td>\n",
       "      <td>-1416.804280</td>\n",
       "    </tr>\n",
       "    <tr>\n",
       "      <th>2</th>\n",
       "      <td>28000</td>\n",
       "      <td>29043.009684</td>\n",
       "      <td>-1043.009684</td>\n",
       "    </tr>\n",
       "    <tr>\n",
       "      <th>3</th>\n",
       "      <td>23000</td>\n",
       "      <td>25133.662939</td>\n",
       "      <td>-2133.662939</td>\n",
       "    </tr>\n",
       "    <tr>\n",
       "      <th>4</th>\n",
       "      <td>38000</td>\n",
       "      <td>30940.301943</td>\n",
       "      <td>7059.698057</td>\n",
       "    </tr>\n",
       "    <tr>\n",
       "      <th>...</th>\n",
       "      <td>...</td>\n",
       "      <td>...</td>\n",
       "      <td>...</td>\n",
       "    </tr>\n",
       "    <tr>\n",
       "      <th>291</th>\n",
       "      <td>25000</td>\n",
       "      <td>24457.591886</td>\n",
       "      <td>542.408114</td>\n",
       "    </tr>\n",
       "    <tr>\n",
       "      <th>292</th>\n",
       "      <td>19000</td>\n",
       "      <td>22010.702072</td>\n",
       "      <td>-3010.702072</td>\n",
       "    </tr>\n",
       "    <tr>\n",
       "      <th>293</th>\n",
       "      <td>28000</td>\n",
       "      <td>28199.365742</td>\n",
       "      <td>-199.365742</td>\n",
       "    </tr>\n",
       "    <tr>\n",
       "      <th>294</th>\n",
       "      <td>25000</td>\n",
       "      <td>29795.386750</td>\n",
       "      <td>-4795.386750</td>\n",
       "    </tr>\n",
       "    <tr>\n",
       "      <th>295</th>\n",
       "      <td>29000</td>\n",
       "      <td>25746.656927</td>\n",
       "      <td>3253.343073</td>\n",
       "    </tr>\n",
       "  </tbody>\n",
       "</table>\n",
       "<p>296 rows × 3 columns</p>\n",
       "</div>"
      ],
      "text/plain": [
       "     Actual     Predicted   Difference\n",
       "0     23000  20876.011498  2123.988502\n",
       "1     23000  24416.804280 -1416.804280\n",
       "2     28000  29043.009684 -1043.009684\n",
       "3     23000  25133.662939 -2133.662939\n",
       "4     38000  30940.301943  7059.698057\n",
       "..      ...           ...          ...\n",
       "291   25000  24457.591886   542.408114\n",
       "292   19000  22010.702072 -3010.702072\n",
       "293   28000  28199.365742  -199.365742\n",
       "294   25000  29795.386750 -4795.386750\n",
       "295   29000  25746.656927  3253.343073\n",
       "\n",
       "[296 rows x 3 columns]"
      ]
     },
     "execution_count": 32,
     "metadata": {},
     "output_type": "execute_result"
    }
   ],
   "source": [
    "pred_y_df = pd.DataFrame({'Actual': y_test, 'Predicted': y_pred, 'Difference': (y_test-y_pred)})\n",
    "pred_y_df"
   ]
  }
 ],
 "metadata": {
  "kernelspec": {
   "display_name": "Python 3",
   "language": "python",
   "name": "python3"
  },
  "language_info": {
   "codemirror_mode": {
    "name": "ipython",
    "version": 3
   },
   "file_extension": ".py",
   "mimetype": "text/x-python",
   "name": "python",
   "nbconvert_exporter": "python",
   "pygments_lexer": "ipython3",
   "version": "3.8.8"
  }
 },
 "nbformat": 4,
 "nbformat_minor": 5
}
